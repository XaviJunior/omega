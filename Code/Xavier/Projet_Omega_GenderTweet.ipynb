{
  "nbformat": 4,
  "nbformat_minor": 0,
  "metadata": {
    "colab": {
      "name": "Projet_Omega_GenderTweet.ipynb",
      "provenance": [],
      "collapsed_sections": []
    },
    "kernelspec": {
      "display_name": "Python 2",
      "language": "python",
      "name": "python2"
    },
    "language_info": {
      "codemirror_mode": {
        "name": "ipython",
        "version": 2
      },
      "file_extension": ".py",
      "mimetype": "text/x-python",
      "name": "python",
      "nbconvert_exporter": "python",
      "pygments_lexer": "ipython2",
      "version": "2.7.16"
    }
  },
  "cells": [
    {
      "cell_type": "markdown",
      "metadata": {
        "colab_type": "text",
        "id": "meBgqsTSNpb0"
      },
      "source": [
        "#**Project Omega - Notebook 2**"
      ]
    },
    {
      "cell_type": "markdown",
      "metadata": {
        "colab_type": "text",
        "id": "DED_3rGLGhwu"
      },
      "source": [
        "#Project's Goal\n",
        "In this second doc, we search to show firstly which gender registrer the most tweet as favourite & secondly, which gender is <b>the most retweeted</b>.\n"
      ]
    },
    {
      "cell_type": "code",
      "metadata": {
        "colab_type": "code",
        "id": "z4R5xRQE3dpv",
        "colab": {}
      },
      "source": [
        "import pandas as pd\n",
        "#Import data\n",
        "data = pd.read_csv('https://raw.githubusercontent.com/XaviJunior/omega/Data/Data/gender-classifier-DFE-791531.csv',encoding=\"latin-1\")\n",
        "#Clean the data to have only the gender and the number of favourite tweet\n",
        "FavGender=data[[\"gender\",\"fav_number\"]]"
      ],
      "execution_count": 0,
      "outputs": []
    },
    {
      "cell_type": "code",
      "metadata": {
        "id": "WwKdvQsfk-ZL",
        "colab_type": "code",
        "outputId": "316d17dc-4c90-4aba-b997-54366be16b4e",
        "colab": {
          "base_uri": "https://localhost:8080/",
          "height": 34
        }
      },
      "source": [
        "#New Table with Female Only\n",
        "Female = FavGender[FavGender['gender'] == 'female']\n",
        "#Calculate the median of number of favorite tweet for women\n",
        "FemaleMedian=Female['fav_number'].median(level=None)\n",
        "print(FemaleMedian)"
      ],
      "execution_count": 0,
      "outputs": [
        {
          "output_type": "stream",
          "text": [
            "1509.0\n"
          ],
          "name": "stdout"
        }
      ]
    },
    {
      "cell_type": "code",
      "metadata": {
        "id": "mfUT4zP3k6zF",
        "colab_type": "code",
        "outputId": "b382efb3-41a7-42ca-e3d8-8d424bbedd7e",
        "colab": {
          "base_uri": "https://localhost:8080/",
          "height": 34
        }
      },
      "source": [
        "#New Table with Male Only\n",
        "Male = FavGender[FavGender['gender'] == 'male']\n",
        "#Calculate the median of number of favorite tweet for men\n",
        "MaleMedian=Male['fav_number'].median()\n",
        "MaleMedian"
      ],
      "execution_count": 0,
      "outputs": [
        {
          "output_type": "execute_result",
          "data": {
            "text/plain": [
              "831.5"
            ]
          },
          "metadata": {
            "tags": []
          },
          "execution_count": 54
        }
      ]
    },
    {
      "cell_type": "code",
      "metadata": {
        "id": "CVkwKxPClmUU",
        "colab_type": "code",
        "outputId": "a377597d-c04e-4ccb-92d4-5d467619c723",
        "colab": {
          "base_uri": "https://localhost:8080/",
          "height": 295
        }
      },
      "source": [
        "#Graph which illustre how many tweet a women and a men registre as favourite\n",
        "MG = pd.DataFrame({'Gender':['Women', 'Men'], 'Nb Tweet':[FemaleMedian, MaleMedian]})\n",
        "ax = MG.plot.bar(x='Gender', y='Nb Tweet', rot=0, title='Mean of number of favorite tweet pro gender',color=['purple', 'royalblue'])"
      ],
      "execution_count": 0,
      "outputs": [
        {
          "output_type": "display_data",
          "data": {
            "image/png": "[encoded data removed]",
            "text/plain": [
              "<Figure size 432x288 with 1 Axes>"
            ]
          },
          "metadata": {
            "tags": []
          }
        }
      ]
    },
    {
      "cell_type": "code",
      "metadata": {
        "id": "remMILSfrWbN",
        "colab_type": "code",
        "colab": {}
      },
      "source": [
        "#Import data\n",
        "data = pd.read_csv('https://raw.githubusercontent.com/XaviJunior/omega/Data/Data/gender-classifier-DFE-791531.csv',encoding=\"latin-1\")\n",
        "#Clean the data to have only the gender and the retweet count\n",
        "RetGender=data[[\"gender\",\"retweet_count\"]]"
      ],
      "execution_count": 0,
      "outputs": []
    },
    {
      "cell_type": "code",
      "metadata": {
        "id": "MDqhFgabtf5W",
        "colab_type": "code",
        "outputId": "1be92fe4-5325-4fcc-f1e0-fb2030b35f0d",
        "colab": {
          "base_uri": "https://localhost:8080/",
          "height": 34
        }
      },
      "source": [
        "#New Table with Female Only\n",
        "Female = RetGender[RetGender['gender'] == 'female']\n",
        "#Calculate the average retweet that women obtain\n",
        "AvgRetF=Female['retweet_count'].mean()\n",
        "AvgRetF"
      ],
      "execution_count": 0,
      "outputs": [
        {
          "output_type": "execute_result",
          "data": {
            "text/plain": [
              "0.04671641791044776"
            ]
          },
          "metadata": {
            "tags": []
          },
          "execution_count": 57
        }
      ]
    },
    {
      "cell_type": "code",
      "metadata": {
        "id": "rUhMuuWNtxwF",
        "colab_type": "code",
        "outputId": "a5cbfad3-18a1-4414-dac2-540d091e8767",
        "colab": {
          "base_uri": "https://localhost:8080/",
          "height": 34
        }
      },
      "source": [
        "#New Table with Male Only\n",
        "Male = RetGender[RetGender['gender'] == 'male']\n",
        "#Calculate the average retweet that men obtain\n",
        "AvgRetM=Male['retweet_count'].mean()\n",
        "AvgRetM"
      ],
      "execution_count": 0,
      "outputs": [
        {
          "output_type": "execute_result",
          "data": {
            "text/plain": [
              "0.08895705521472393"
            ]
          },
          "metadata": {
            "tags": []
          },
          "execution_count": 58
        }
      ]
    },
    {
      "cell_type": "code",
      "metadata": {
        "id": "U38oqSbUxmGP",
        "colab_type": "code",
        "outputId": "c4af80be-7f42-4392-cdc9-5b4c62ce983f",
        "colab": {
          "base_uri": "https://localhost:8080/",
          "height": 34
        }
      },
      "source": [
        "#New Table with brand Only\n",
        "brand = RetGender[RetGender['gender'] == 'brand']\n",
        "#Calculate the average retweet that brand obtain\n",
        "AvgRetM=brand['retweet_count'].mean()\n",
        "AvgRetM"
      ],
      "execution_count": 0,
      "outputs": [
        {
          "output_type": "execute_result",
          "data": {
            "text/plain": [
              "0.11612251767081791"
            ]
          },
          "metadata": {
            "tags": []
          },
          "execution_count": 59
        }
      ]
    },
    {
      "cell_type": "code",
      "metadata": {
        "id": "S_DTTUPBt9AY",
        "colab_type": "code",
        "outputId": "a04aaf62-beb0-4e36-e2fb-9004a90013dd",
        "colab": {
          "base_uri": "https://localhost:8080/",
          "height": 295
        }
      },
      "source": [
        "#Graph which illustre what is the avarage retweet number for women & men\n",
        "MG = pd.DataFrame({'Gender':['Women', 'Men'], 'AVG retweet':[AvgRetF, AvgRetM]})\n",
        "ax = MG.plot.bar(x='Gender', y='AVG retweet', rot=0, title='Average retweet pro gender',color=['purple', 'royalblue'])"
      ],
      "execution_count": 0,
      "outputs": [
        {
          "output_type": "display_data",
          "data": {
            "image/png": "[encoded data removed]",
            "text/plain": [
              "<Figure size 432x288 with 1 Axes>"
            ]
          },
          "metadata": {
            "tags": []
          }
        }
      ]
    },
    {
      "cell_type": "code",
      "metadata": {
        "id": "efXG1tPVw-WR",
        "colab_type": "code",
        "outputId": "6829d3eb-da43-469e-dcb2-9b5aedc9146b",
        "colab": {
          "base_uri": "https://localhost:8080/",
          "height": 34
        }
      },
      "source": [
        "#New Table with Female Only\n",
        "Female = RetGender[RetGender['gender'] == 'female']\n",
        "#Calculate the max retweet that a woman obtains\n",
        "F=Female.query('retweet_count > 0')\n",
        "MaxRetF=F['retweet_count'].max()\n",
        "MaxRetF"
      ],
      "execution_count": 0,
      "outputs": [
        {
          "output_type": "execute_result",
          "data": {
            "text/plain": [
              "49"
            ]
          },
          "metadata": {
            "tags": []
          },
          "execution_count": 61
        }
      ]
    },
    {
      "cell_type": "code",
      "metadata": {
        "id": "aDLFi9JhxClx",
        "colab_type": "code",
        "outputId": "13957cdc-390b-4e01-a99f-425023f06d86",
        "colab": {
          "base_uri": "https://localhost:8080/",
          "height": 34
        }
      },
      "source": [
        "#New Table with Male Only\n",
        "Male = RetGender[RetGender['gender'] == 'male']\n",
        "#Calculate the max retweet that a man obtains\n",
        "M=Male.query('retweet_count > 0')\n",
        "MaxRetM=M['retweet_count'].max()\n",
        "MaxRetM"
      ],
      "execution_count": 0,
      "outputs": [
        {
          "output_type": "execute_result",
          "data": {
            "text/plain": [
              "153"
            ]
          },
          "metadata": {
            "tags": []
          },
          "execution_count": 62
        }
      ]
    },
    {
      "cell_type": "code",
      "metadata": {
        "id": "OZdCBJPWxt1B",
        "colab_type": "code",
        "outputId": "3b5700cc-6474-48fb-dab8-e0c9445a2f1a",
        "colab": {
          "base_uri": "https://localhost:8080/",
          "height": 34
        }
      },
      "source": [
        "#New Table with brand Only\n",
        "Male = RetGender[RetGender['gender'] == 'brand']\n",
        "#Calculate the max retweet that a brand obtains\n",
        "M=Male.query('retweet_count > 0')\n",
        "MaxRetM=M['retweet_count'].max()\n",
        "MaxRetM"
      ],
      "execution_count": 0,
      "outputs": [
        {
          "output_type": "execute_result",
          "data": {
            "text/plain": [
              "330"
            ]
          },
          "metadata": {
            "tags": []
          },
          "execution_count": 63
        }
      ]
    },
    {
      "cell_type": "code",
      "metadata": {
        "id": "YmVIkLUmxF1C",
        "colab_type": "code",
        "outputId": "00e8d95b-de59-43e1-9bf2-e701e9d1af42",
        "colab": {
          "base_uri": "https://localhost:8080/",
          "height": 295
        }
      },
      "source": [
        "#Graph which illustre what is the max retweet number that a women and a men obtain\n",
        "MG = pd.DataFrame({'Gender':['Women', 'Men'], 'Nb retweet':[MaxRetF, MaxRetM]})\n",
        "ax = MG.plot.bar(x='Gender', y='Nb retweet', rot=0, title='Maximum retweet pro gender',color=['purple', 'royalblue'])"
      ],
      "execution_count": 0,
      "outputs": [
        {
          "output_type": "display_data",
          "data": {
            "image/png": "[encoded data removed]",
            "text/plain": [
              "<Figure size 432x288 with 1 Axes>"
            ]
          },
          "metadata": {
            "tags": []
          }
        }
      ]
    },
    {
      "cell_type": "code",
      "metadata": {
        "id": "STGEOlL4RN_T",
        "colab_type": "code",
        "colab": {}
      },
      "source": [
        "#Clean the data to have only the gender and the tweet\n",
        "NbTGender=data[[\"gender\",\"tweet_count\"]]"
      ],
      "execution_count": 0,
      "outputs": []
    },
    {
      "cell_type": "code",
      "metadata": {
        "id": "m6w5DRCzSPxI",
        "colab_type": "code",
        "outputId": "fe4c8ea6-8e5c-4d7f-87f2-4aa4d6a8f8d4",
        "colab": {
          "base_uri": "https://localhost:8080/",
          "height": 34
        }
      },
      "source": [
        "#New Table with Female Only\n",
        "Female = NbTGender[NbTGender['gender'] == 'female']\n",
        "#Calculate the max tweet that a woman do\n",
        "MaxTwF=Female['tweet_count'].max()\n",
        "MaxTwF"
      ],
      "execution_count": 0,
      "outputs": [
        {
          "output_type": "execute_result",
          "data": {
            "text/plain": [
              "1125963"
            ]
          },
          "metadata": {
            "tags": []
          },
          "execution_count": 66
        }
      ]
    },
    {
      "cell_type": "code",
      "metadata": {
        "id": "_YrIHZBBSoja",
        "colab_type": "code",
        "outputId": "4a465da1-c01f-4774-a389-93d84e8e6983",
        "colab": {
          "base_uri": "https://localhost:8080/",
          "height": 34
        }
      },
      "source": [
        "#New Table with male Only\n",
        "Male = NbTGender[NbTGender['gender'] == 'male']\n",
        "#Calculate the max tweet that a woman do\n",
        "MaxTwM=Male['tweet_count'].max()\n",
        "MaxTwM"
      ],
      "execution_count": 0,
      "outputs": [
        {
          "output_type": "execute_result",
          "data": {
            "text/plain": [
              "2680199"
            ]
          },
          "metadata": {
            "tags": []
          },
          "execution_count": 67
        }
      ]
    },
    {
      "cell_type": "code",
      "metadata": {
        "id": "u8MLdHa2Sy6C",
        "colab_type": "code",
        "outputId": "d190cd6d-2f12-4fe8-dfa6-57e9e280b19f",
        "colab": {
          "base_uri": "https://localhost:8080/",
          "height": 34
        }
      },
      "source": [
        "#New Table with brand Only\n",
        "Brand = NbTGender[NbTGender['gender'] == 'brand']\n",
        "#Calculate the max tweet that a woman do\n",
        "MaxTwB=Brand['tweet_count'].max()\n",
        "MaxTwB"
      ],
      "execution_count": 0,
      "outputs": [
        {
          "output_type": "execute_result",
          "data": {
            "text/plain": [
              "2372591"
            ]
          },
          "metadata": {
            "tags": []
          },
          "execution_count": 68
        }
      ]
    },
    {
      "cell_type": "code",
      "metadata": {
        "id": "UvzFhXjGS-aD",
        "colab_type": "code",
        "outputId": "0dc3799d-949a-404e-cd98-5740939d5d97",
        "colab": {
          "base_uri": "https://localhost:8080/",
          "height": 295
        }
      },
      "source": [
        "#Graph which illustre what is the max Twet number that a women and a men do\n",
        "MG = pd.DataFrame({'Gender':['Women', 'Men'], 'Max nb tweet':[MaxTwF, MaxTwM]})\n",
        "ax = MG.plot.bar(x='Gender', y='Max nb tweet', rot=0, title='Maximum tweet pro gender',color=['purple', 'royalblue'])"
      ],
      "execution_count": 0,
      "outputs": [
        {
          "output_type": "display_data",
          "data": {
            "image/png": "[encoded data removed]",
            "text/plain": [
              "<Figure size 432x288 with 1 Axes>"
            ]
          },
          "metadata": {
            "tags": []
          }
        }
      ]
    },
    {
      "cell_type": "code",
      "metadata": {
        "id": "XX-4wQkrTR4q",
        "colab_type": "code",
        "outputId": "cdaad075-ef72-4c22-b2ae-6b1460ef1e79",
        "colab": {
          "base_uri": "https://localhost:8080/",
          "height": 34
        }
      },
      "source": [
        "#Calculate the average number of tweet that a woman do\n",
        "AvgTwF=Female['tweet_count'].mean()\n",
        "AvgTwF"
      ],
      "execution_count": 0,
      "outputs": [
        {
          "output_type": "execute_result",
          "data": {
            "text/plain": [
              "27286.799104477614"
            ]
          },
          "metadata": {
            "tags": []
          },
          "execution_count": 70
        }
      ]
    },
    {
      "cell_type": "code",
      "metadata": {
        "id": "SnUX-khoTfBY",
        "colab_type": "code",
        "outputId": "4e22ba47-82f4-4698-c1f2-344c9deab63c",
        "colab": {
          "base_uri": "https://localhost:8080/",
          "height": 34
        }
      },
      "source": [
        "#Calculate the average number of tweet that a man do\n",
        "AvgTwM=Male['tweet_count'].mean()\n",
        "AvgTwM"
      ],
      "execution_count": 0,
      "outputs": [
        {
          "output_type": "execute_result",
          "data": {
            "text/plain": [
              "31796.416855020987"
            ]
          },
          "metadata": {
            "tags": []
          },
          "execution_count": 71
        }
      ]
    },
    {
      "cell_type": "code",
      "metadata": {
        "id": "Mvm3aVx7TyvN",
        "colab_type": "code",
        "outputId": "4138b97f-9e01-4a43-a038-19c08e50ceb3",
        "colab": {
          "base_uri": "https://localhost:8080/",
          "height": 34
        }
      },
      "source": [
        "#Calculate the average number of tweet that a man do\n",
        "AvgTwB=Brand['tweet_count'].mean()\n",
        "AvgTwB"
      ],
      "execution_count": 0,
      "outputs": [
        {
          "output_type": "execute_result",
          "data": {
            "text/plain": [
              "60146.66745203635"
            ]
          },
          "metadata": {
            "tags": []
          },
          "execution_count": 72
        }
      ]
    },
    {
      "cell_type": "code",
      "metadata": {
        "id": "C7Cuw7I8TnfE",
        "colab_type": "code",
        "outputId": "0bb75cb1-55cd-4077-ca01-eb72b56e8c6b",
        "colab": {
          "base_uri": "https://localhost:8080/",
          "height": 295
        }
      },
      "source": [
        "#Graph which illustre what is the max Twet number that a women and a men do\n",
        "MG = pd.DataFrame({'Gender':['Women', 'Men'], 'Avg tweet':[AvgTwF, AvgTwM]})\n",
        "ax = MG.plot.bar(x='Gender', y='Avg tweet', rot=0, title='Average tweet pro gender',color=['purple', 'royalblue'])"
      ],
      "execution_count": 0,
      "outputs": [
        {
          "output_type": "display_data",
          "data": {
            "image/png": "[encoded data removed]",
            "text/plain": [
              "<Figure size 432x288 with 1 Axes>"
            ]
          },
          "metadata": {
            "tags": []
          }
        }
      ]
    },
    {
      "cell_type": "code",
      "metadata": {
        "id": "uBBErevLVvmY",
        "colab_type": "code",
        "outputId": "ea7d515b-8706-428e-b423-bc32bc3ddf12",
        "colab": {
          "base_uri": "https://localhost:8080/",
          "height": 34
        }
      },
      "source": [
        "#Calculate the ratio tweet / retweet for a woman ( avg Tweet woman / avg retweet woman)\n",
        "RatioTRF=AvgTwF/AvgRetF\n",
        "RatioTRF"
      ],
      "execution_count": 0,
      "outputs": [
        {
          "output_type": "execute_result",
          "data": {
            "text/plain": [
              "584094.4217252396"
            ]
          },
          "metadata": {
            "tags": []
          },
          "execution_count": 74
        }
      ]
    },
    {
      "cell_type": "code",
      "metadata": {
        "id": "4O2neo9uWXvt",
        "colab_type": "code",
        "outputId": "b17e14d6-0ac4-4dba-9a23-10019eba09ac",
        "colab": {
          "base_uri": "https://localhost:8080/",
          "height": 34
        }
      },
      "source": [
        "#Calculate the ratio tweet / retweet for a man ( avg Tweet man / avg retweet man)\n",
        "RatioTRM=AvgTwM/AvgRetM\n",
        "RatioTRM"
      ],
      "execution_count": 0,
      "outputs": [
        {
          "output_type": "execute_result",
          "data": {
            "text/plain": [
              "273817.8390616445"
            ]
          },
          "metadata": {
            "tags": []
          },
          "execution_count": 75
        }
      ]
    },
    {
      "cell_type": "code",
      "metadata": {
        "id": "JvgDyegLWs7r",
        "colab_type": "code",
        "outputId": "7ba044ce-039e-4f7c-8759-e6d98f65231e",
        "colab": {
          "base_uri": "https://localhost:8080/",
          "height": 295
        }
      },
      "source": [
        "#Graph which illustre what the ratio tweet/retweet between man and woman\n",
        "MG = pd.DataFrame({'Gender':['Women', 'Men'], 'Ratio tweet/retweet':[RatioTRF, RatioTRM]})\n",
        "ax = MG.plot.bar(x='Gender', y='Ratio tweet/retweet', rot=0, title='Ratio tweet/retweet pro gender',color=['purple', 'royalblue'])"
      ],
      "execution_count": 0,
      "outputs": [
        {
          "output_type": "display_data",
          "data": {
            "image/png": "[encoded data removed]",
            "text/plain": [
              "<Figure size 432x288 with 1 Axes>"
            ]
          },
          "metadata": {
            "tags": []
          }
        }
      ]
    },
    {
      "cell_type": "code",
      "metadata": {
        "id": "T5XhvN9IarNU",
        "colab_type": "code",
        "colab": {}
      },
      "source": [
        "#Clean the data to have only the gender and the retweet count\n",
        "GraphData=data[[\"gender\",\"retweet_count\",\"tweet_count\"]]"
      ],
      "execution_count": 0,
      "outputs": []
    },
    {
      "cell_type": "code",
      "metadata": {
        "id": "kfIDagpJbErW",
        "colab_type": "code",
        "colab": {
          "base_uri": "https://localhost:8080/",
          "height": 295
        },
        "outputId": "c0d213a4-049e-4622-e870-9ca9a03405de"
      },
      "source": [
        "import matplotlib.pyplot as plt\n",
        "\n",
        "x = []\n",
        "y = []\n",
        "\n",
        "tweetList = GraphData[\"tweet_count\"].values.tolist()\n",
        "retweetList = GraphData[\"retweet_count\"].values.tolist()\n",
        "for s in tweetList:\n",
        "  x.append(s)\n",
        "for s in retweetList:\n",
        "  y.append(s)\n",
        "plt.scatter(x,y)\n",
        "\n",
        "plt.title('Nuage de points selon tweet et retweet')\n",
        "plt.xlabel('Nb of tweet')\n",
        "plt.ylabel('nb of retweet')\n",
        "\n",
        "plt.savefig('ScatterPlot_01.png')\n",
        "plt.show()"
      ],
      "execution_count": 86,
      "outputs": [
        {
          "output_type": "display_data",
          "data": {
            "image/png": "[encoded data removed]",
            "text/plain": [
              "<Figure size 432x288 with 1 Axes>"
            ]
          },
          "metadata": {
            "tags": []
          }
        }
      ]
    }
  ]
}