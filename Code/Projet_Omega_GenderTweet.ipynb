{
  "nbformat": 4,
  "nbformat_minor": 0,
  "metadata": {
    "colab": {
      "name": "Copie de Projet_Omega.ipynb",
      "provenance": [],
      "collapsed_sections": []
    },
    "kernelspec": {
      "display_name": "Python 2",
      "language": "python",
      "name": "python2"
    },
    "language_info": {
      "codemirror_mode": {
        "name": "ipython",
        "version": 2
      },
      "file_extension": ".py",
      "mimetype": "text/x-python",
      "name": "python",
      "nbconvert_exporter": "python",
      "pygments_lexer": "ipython2",
      "version": "2.7.16"
    }
  },
  "cells": [
    {
      "cell_type": "markdown",
      "metadata": {
        "colab_type": "text",
        "id": "meBgqsTSNpb0"
      },
      "source": [
        "#**Project Omega - Notebook 2**"
      ]
    },
    {
      "cell_type": "markdown",
      "metadata": {
        "colab_type": "text",
        "id": "DED_3rGLGhwu"
      },
      "source": [
        "#Project's Goal\n",
        "In this second doc, we search to show firstly which gender registrer the most tweet as favourite & secondly, which gender is <b>the most retweeted</b>.\n"
      ]
    },
    {
      "cell_type": "code",
      "metadata": {
        "colab_type": "code",
        "id": "z4R5xRQE3dpv",
        "colab": {}
      },
      "source": [
        "#Import data\n",
        "data = pd.read_csv('https://raw.githubusercontent.com/XaviJunior/omega/Data/Data/gender-classifier-DFE-791531.csv',encoding=\"latin-1\")\n",
        "#Clean the data to have only the gender and the number of favourite tweet\n",
        "FavGender=data[[\"gender\",\"fav_number\"]]"
      ],
      "execution_count": 0,
      "outputs": []
    },
    {
      "cell_type": "code",
      "metadata": {
        "id": "WwKdvQsfk-ZL",
        "colab_type": "code",
        "outputId": "37f3f33b-c0ac-4c6e-d71a-c025c5f5abdd",
        "colab": {
          "base_uri": "https://localhost:8080/",
          "height": 34
        }
      },
      "source": [
        "#New Table with Female Only\n",
        "Female = FavGender[FavGender['gender'] == 'female']\n",
        "#Calculate the median of number of favorite tweet for women\n",
        "FemaleMedian=Female['fav_number'].median(level=None)\n",
        "print(FemaleMedian)"
      ],
      "execution_count": 32,
      "outputs": [
        {
          "output_type": "stream",
          "text": [
            "1509.0\n"
          ],
          "name": "stdout"
        }
      ]
    },
    {
      "cell_type": "code",
      "metadata": {
        "id": "mfUT4zP3k6zF",
        "colab_type": "code",
        "outputId": "d2e895e0-f118-4197-a661-8d33fa4ed914",
        "colab": {
          "base_uri": "https://localhost:8080/",
          "height": 34
        }
      },
      "source": [
        "#New Table with Male Only\n",
        "Male = FavGender[FavGender['gender'] == 'male']\n",
        "#Calculate the median of number of favorite tweet for men\n",
        "MaleMedian=Male['fav_number'].median()\n",
        "MaleMedian"
      ],
      "execution_count": 8,
      "outputs": [
        {
          "output_type": "execute_result",
          "data": {
            "text/plain": [
              "831.5"
            ]
          },
          "metadata": {
            "tags": []
          },
          "execution_count": 8
        }
      ]
    },
    {
      "cell_type": "code",
      "metadata": {
        "id": "CVkwKxPClmUU",
        "colab_type": "code",
        "outputId": "ca94e094-9bcd-42c3-83c3-3c3140327a71",
        "colab": {
          "base_uri": "https://localhost:8080/",
          "height": 295
        }
      },
      "source": [
        "#Graph which illustre how many tweet a women and a men registre as favourite\n",
        "MG = pd.DataFrame({'Gender':['Women', 'Men'], 'Nb Tweet':[FemaleMedian, MaleMedian]})\n",
        "ax = MG.plot.bar(x='Gender', y='Nb Tweet', rot=0, title='Mean of number of favorite tweet pro gender',color=['purple', 'royalblue'])"
      ],
      "execution_count": 9,
      "outputs": [
        {
          "output_type": "display_data",
          "data": {
            "image/png": "[encoded data removed]",
            "text/plain": [
              "<Figure size 432x288 with 1 Axes>"
            ]
          },
          "metadata": {
            "tags": []
          }
        }
      ]
    },
    {
      "cell_type": "code",
      "metadata": {
        "id": "remMILSfrWbN",
        "colab_type": "code",
        "colab": {}
      },
      "source": [
        "#Import data\n",
        "data = pd.read_csv('https://raw.githubusercontent.com/XaviJunior/omega/Data/Data/gender-classifier-DFE-791531.csv',encoding=\"latin-1\")\n",
        "#Clean the data to have only the gender and the retweet count\n",
        "RetGender=data[[\"gender\",\"retweet_count\"]]"
      ],
      "execution_count": 0,
      "outputs": []
    },
    {
      "cell_type": "code",
      "metadata": {
        "id": "MDqhFgabtf5W",
        "colab_type": "code",
        "outputId": "672d9eff-51e8-4742-e737-389e74d68747",
        "colab": {
          "base_uri": "https://localhost:8080/",
          "height": 34
        }
      },
      "source": [
        "#New Table with Female Only\n",
        "Female = RetGender[RetGender['gender'] == 'female']\n",
        "#Calculate the average retweet that women obtain\n",
        "F=Female.query('retweet_count > 0')\n",
        "MeanRetF=F['retweet_count'].mean()\n",
        "MeanRetF"
      ],
      "execution_count": 22,
      "outputs": [
        {
          "output_type": "execute_result",
          "data": {
            "text/plain": [
              "1.8092485549132948"
            ]
          },
          "metadata": {
            "tags": []
          },
          "execution_count": 22
        }
      ]
    },
    {
      "cell_type": "code",
      "metadata": {
        "id": "rUhMuuWNtxwF",
        "colab_type": "code",
        "outputId": "1405f7df-877c-4056-808d-3be17bdb4666",
        "colab": {
          "base_uri": "https://localhost:8080/",
          "height": 34
        }
      },
      "source": [
        "#New Table with Male Only\n",
        "Male = RetGender[RetGender['gender'] == 'male']\n",
        "#Calculate the average retweet that men obtain\n",
        "M=Male.query('retweet_count > 0')\n",
        "MeanRetM=M['retweet_count'].mean()\n",
        "MeanRetM"
      ],
      "execution_count": 23,
      "outputs": [
        {
          "output_type": "execute_result",
          "data": {
            "text/plain": [
              "2.4598214285714284"
            ]
          },
          "metadata": {
            "tags": []
          },
          "execution_count": 23
        }
      ]
    },
    {
      "cell_type": "code",
      "metadata": {
        "id": "U38oqSbUxmGP",
        "colab_type": "code",
        "colab": {
          "base_uri": "https://localhost:8080/",
          "height": 34
        },
        "outputId": "b1bf7abd-fbd9-4571-bd41-94de0936611a"
      },
      "source": [
        "#New Table with brand Only\n",
        "Male = RetGender[RetGender['gender'] == 'brand']\n",
        "#Calculate the average retweet that brand obtain\n",
        "M=Male.query('retweet_count > 0')\n",
        "MeanRetM=M['retweet_count'].mean()\n",
        "MeanRetM"
      ],
      "execution_count": 29,
      "outputs": [
        {
          "output_type": "execute_result",
          "data": {
            "text/plain": [
              "3.520408163265306"
            ]
          },
          "metadata": {
            "tags": []
          },
          "execution_count": 29
        }
      ]
    },
    {
      "cell_type": "code",
      "metadata": {
        "id": "S_DTTUPBt9AY",
        "colab_type": "code",
        "outputId": "82fac731-e481-4686-93cd-7e2a7ce2bd1c",
        "colab": {
          "base_uri": "https://localhost:8080/",
          "height": 295
        }
      },
      "source": [
        "#Graph which illustre what is the avarage retweet number for women & men\n",
        "MG = pd.DataFrame({'Gender':['Women', 'Men'], 'AVG retweet':[MeanRetF, MeanRetM]})\n",
        "ax = MG.plot.bar(x='Gender', y='AVG retweet', rot=0, title='Average retweet pro gender',color=['purple', 'royalblue'])"
      ],
      "execution_count": 24,
      "outputs": [
        {
          "output_type": "display_data",
          "data": {
            "image/png": "[encoded data removed]",
            "text/plain": [
              "<Figure size 432x288 with 1 Axes>"
            ]
          },
          "metadata": {
            "tags": []
          }
        }
      ]
    },
    {
      "cell_type": "code",
      "metadata": {
        "id": "efXG1tPVw-WR",
        "colab_type": "code",
        "colab": {
          "base_uri": "https://localhost:8080/",
          "height": 34
        },
        "outputId": "28ce7654-4411-42a6-acaa-cec910e3df86"
      },
      "source": [
        "#New Table with Female Only\n",
        "Female = RetGender[RetGender['gender'] == 'female']\n",
        "#Calculate the max retweet that a woman obtains\n",
        "F=Female.query('retweet_count > 0')\n",
        "MaxRetF=F['retweet_count'].max()\n",
        "MaxRetF"
      ],
      "execution_count": 25,
      "outputs": [
        {
          "output_type": "execute_result",
          "data": {
            "text/plain": [
              "49"
            ]
          },
          "metadata": {
            "tags": []
          },
          "execution_count": 25
        }
      ]
    },
    {
      "cell_type": "code",
      "metadata": {
        "id": "aDLFi9JhxClx",
        "colab_type": "code",
        "colab": {
          "base_uri": "https://localhost:8080/",
          "height": 34
        },
        "outputId": "8a7232cf-8388-49d1-fe51-8e893826a7c9"
      },
      "source": [
        "#New Table with Male Only\n",
        "Male = RetGender[RetGender['gender'] == 'male']\n",
        "#Calculate the max retweet that a man obtains\n",
        "M=Male.query('retweet_count > 0')\n",
        "MaxRetM=M['retweet_count'].max()\n",
        "MaxRetM"
      ],
      "execution_count": 26,
      "outputs": [
        {
          "output_type": "execute_result",
          "data": {
            "text/plain": [
              "153"
            ]
          },
          "metadata": {
            "tags": []
          },
          "execution_count": 26
        }
      ]
    },
    {
      "cell_type": "code",
      "metadata": {
        "id": "OZdCBJPWxt1B",
        "colab_type": "code",
        "colab": {
          "base_uri": "https://localhost:8080/",
          "height": 34
        },
        "outputId": "0521364c-38d1-4dea-a80c-b70f64234ea3"
      },
      "source": [
        "#New Table with brand Only\n",
        "Male = RetGender[RetGender['gender'] == 'brand']\n",
        "#Calculate the max retweet that a brand obtains\n",
        "M=Male.query('retweet_count > 0')\n",
        "MaxRetM=M['retweet_count'].max()\n",
        "MaxRetM"
      ],
      "execution_count": 30,
      "outputs": [
        {
          "output_type": "execute_result",
          "data": {
            "text/plain": [
              "330"
            ]
          },
          "metadata": {
            "tags": []
          },
          "execution_count": 30
        }
      ]
    },
    {
      "cell_type": "code",
      "metadata": {
        "id": "YmVIkLUmxF1C",
        "colab_type": "code",
        "colab": {
          "base_uri": "https://localhost:8080/",
          "height": 295
        },
        "outputId": "2a25aa89-0a88-46d0-a080-a53e3f3e23f7"
      },
      "source": [
        "#Graph which illustre what is the max retweet number that a women and a men obtain\n",
        "MG = pd.DataFrame({'Gender':['Women', 'Men'], 'Nb retweet':[MaxRetF, MaxRetM]})\n",
        "ax = MG.plot.bar(x='Gender', y='Nb retweet', rot=0, title='Maximum retweet pro gender',color=['purple', 'royalblue'])"
      ],
      "execution_count": 27,
      "outputs": [
        {
          "output_type": "display_data",
          "data": {
            "image/png": "[encoded data removed]",
            "text/plain": [
              "<Figure size 432x288 with 1 Axes>"
            ]
          },
          "metadata": {
            "tags": []
          }
        }
      ]
    }
  ]
}